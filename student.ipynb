{
 "cells": [
  {
   "cell_type": "markdown",
   "metadata": {},
   "source": [
    "## Final Project Submission\r\n",
    "\r\n",
    "Please fill out:\r\n",
    "* Student name: GEOFFREY MWANGI WACHIRA\r\n",
    "* Student pace: full time\r\n",
    "* Scheduled project review date/time: 03/05/2024\r\n",
    "* Instructor name:Samuel G. Mwangi\r\n",
    "* Blog post URL: N/A\n"
   ]
  },
  {
   "cell_type": "markdown",
   "metadata": {},
   "source": [
    "# Business Understanding\r\n",
    "\r\n",
    "## Objective\r\n",
    "The purpose of this analysis is to help Microsoft understand which types of films are performing well at the box office, providing actionable insights for their new movie studio.\r\n",
    "\r\n",
    "## Business Problem\r\n",
    "Microsoft is looking to enter the movie industry but lacks knowledge about movie production and performance metrics. This analysis aims to uncover key trends in the movie industry to guide Microsoft's decisions on what types of films to produce.\r\n",
    "\r\n",
    "## Goal\r\n",
    "Our goal is to analyze movie data to provide three concrete business recommendations to help Microsoft make informed decisions about their new movie studio.\r\n"
   ]
  },
  {
   "cell_type": "markdown",
   "metadata": {},
   "source": [
    "## Data\r\n",
    "Here, we'll describe the datasets we'll be working with and their relevance to the business problem.\r\n",
    "\r\n",
    "Data Source\n",
    "s1. :\r\n",
    "Box Office Mojo: Provides information on movie box office performanc2. e.\r\n",
    "IMDB: Contains comprehensive data on movies, including ratings and cast information.\r\n",
    "Rotten Tomatoes: Offers movie reviews and ratings from critics and audiences.\r\n",
    "TheMovieDB: A database for movies and TV shows, providing detailed information on titles and crew.\r\n",
    "The Numbers: Provides data on movie budgets, revenues, and production costs.Numbers]\r\n"
   ]
  },
  {
   "cell_type": "markdown",
   "metadata": {},
   "source": [
    "## Project Outline\r\n",
    "We will conduct EDA on the movie and movie rating databases to identify trends and patterns in box office success. We will analyze factors such as genre, time period, ratings, budget, director, actor, and production country to identify what makes a successfuland profitable  movie. We will also identify any seasonal trends in movie releases and revenue.rThis wil help us answer wer the following questions:\r\n",
    "\r\n",
    "* What are the most successful genres at the box office?\r\n",
    "* How do ratings and revenue vary across different genres and time periods?\r\n",
    "* Are there any seasonal trends in movie releases and revenue?\r\n",
    "* Who are the most successful directors and actors in terms of revenue and ratings?\r\n",
    "* What is the average budget for successful movies, and how does it vary across different genres?\r\n",
    "* Are there any relationships between critical acclaim (e.g. movie ratings from critics) and box office revenue?\r\n",
    "* What are the most popular countries for movie production and distribution, and how do their box office revenues compare?\r\n",
    "* Are there any patterns in the runtime of successful movies, and how do they vary across different genres?"
   ]
  },
  {
   "cell_type": "markdown",
   "metadata": {},
   "source": [
    "**Importing necessary libraries**"
   ]
  },
  {
   "cell_type": "code",
   "execution_count": 2,
   "metadata": {},
   "outputs": [],
   "source": [
    "import pandas as pd\n",
    "import os \n",
    "import numpy as np\n",
    "import matplotlib.pyplot as plt\n",
    "import seaborn as sns\n",
    "%matplotlib inline\n",
    "#Importing sqlite3 library\n",
    "import sqlite3"
   ]
  },
  {
   "cell_type": "markdown",
   "metadata": {},
   "source": [
    "# Data Preparation\r\n",
    "In this section, we'll load and preprocess the datasets, ensuring they are ready for analysis"
   ]
  },
  {
   "cell_type": "code",
   "execution_count": 4,
   "metadata": {},
   "outputs": [],
   "source": [
    "# Reading the data - Box Office Mojo - Movie Gross\n",
    "bom_movie_gross = pd.read_csv('C:/Users/Hp/Desktop/Phase_One_Project/dsc-phase-1-project-v2-4/zippedData/bom.movie_gross.csv.gz')\n",
    "\n",
    "# Connecting to the database\n",
    "conn = sqlite3.connect('C:/Users/Hp/Desktop/Phase_One_Project/dsc-phase-1-project-v2-4/zippedData/im.db/im.db')\n",
    "cur = conn.cursor()\n",
    "\n",
    "# Loading the movie_info table\n",
    "rt_movie_info = pd.read_csv('C:/Users/Hp/Desktop/Phase_One_Project/dsc-phase-1-project-v2-4/zippedData/rt.movie_info.tsv.gz', delimiter='\\t')\n",
    "\n",
    "# Loading rt.reviews table\n",
    "rt_reviews = pd.read_csv('C:/Users/Hp/Desktop/Phase_One_Project/dsc-phase-1-project-v2-4/zippedData/rt.reviews.tsv.gz', delimiter='\\t', encoding='latin-1')\n",
    "\n",
    "# Loading tmdb data tables\n",
    "tmdb_movies = pd.read_csv('C:/Users/Hp/Desktop/Phase_One_Project/dsc-phase-1-project-v2-4/zippedData/tmdb.movies.csv.gz')\n",
    "\n",
    "# Loading tn.movie_budgets data table\n",
    "tn_movie_budgets = pd.read_csv('C:/Users/Hp/Desktop/Phase_One_Project/dsc-phase-1-project-v2-4/zippedData/tn.movie_budgets.csv.gz')\n"
   ]
  },
  {
   "cell_type": "markdown",
   "metadata": {},
   "source": [
    "Now, let's proceed with exploring each dataset in detail:\r\n",
    "## \r\n",
    "1. Box Office Mojo - Movie Gross"
   ]
  },
  {
   "cell_type": "code",
   "execution_count": 8,
   "metadata": {},
   "outputs": [
    {
     "name": "stdout",
     "output_type": "stream",
     "text": [
      "Box Office Mojo - Movie Gross's Shape is : (3387, 5)\n",
      "************************************************************************\n",
      "************************************************************************\n",
      "Descriptive Statistics:\n",
      "       domestic_gross         year\n",
      "count    3.359000e+03  3387.000000\n",
      "mean     2.874585e+07  2013.958075\n",
      "std      6.698250e+07     2.478141\n",
      "min      1.000000e+02  2010.000000\n",
      "25%      1.200000e+05  2012.000000\n",
      "50%      1.400000e+06  2014.000000\n",
      "75%      2.790000e+07  2016.000000\n",
      "max      9.367000e+08  2018.000000\n",
      "************************************************************************\n",
      "************************************************************************\n",
      "Missing Data:\n",
      "title                0\n",
      "studio               5\n",
      "domestic_gross      28\n",
      "foreign_gross     1350\n",
      "year                 0\n",
      "dtype: int64\n",
      "************************************************************************\n",
      "************************************************************************\n",
      "Duplicate Rows:\n",
      "Empty DataFrame\n",
      "Columns: [title, studio, domestic_gross, foreign_gross, year]\n",
      "Index: []\n",
      "************************************************************************\n",
      "************************************************************************\n"
     ]
    }
   ],
   "source": [
    "# Shape\n",
    "print(\"Box Office Mojo - Movie Gross's Shape is :\", bom_movie_gross.shape)\n",
    "\n",
    "print('************************************************************************')\n",
    "print('************************************************************************')\n",
    "\n",
    "# Descriptive statistics\n",
    "print(\"Descriptive Statistics:\")\n",
    "print(bom_movie_gross.describe())\n",
    "\n",
    "print('************************************************************************')\n",
    "print('************************************************************************')\n",
    "\n",
    "# Missing data\n",
    "print(\"Missing Data:\")\n",
    "print(bom_movie_gross.isnull().sum())\n",
    "\n",
    "print('************************************************************************')\n",
    "print('************************************************************************')\n",
    "\n",
    "# Duplicates\n",
    "print(\"Duplicate Rows:\")\n",
    "print(bom_movie_gross[bom_movie_gross.duplicated()])\n",
    "\n",
    "print('************************************************************************')\n",
    "print('************************************************************************')\n"
   ]
  },
  {
   "cell_type": "markdown",
   "metadata": {},
   "source": [
    "## 2. Rotten Tomatoes - Movie Info"
   ]
  },
  {
   "cell_type": "code",
   "execution_count": 9,
   "metadata": {},
   "outputs": [
    {
     "name": "stdout",
     "output_type": "stream",
     "text": [
      "Rotten Tomatoes - Movie Info's Shape is : (1560, 12)\n",
      "************************************************************************\n",
      "************************************************************************\n",
      "Descriptive Statistics:\n",
      "                id\n",
      "count  1560.000000\n",
      "mean   1007.303846\n",
      "std     579.164527\n",
      "min       1.000000\n",
      "25%     504.750000\n",
      "50%    1007.500000\n",
      "75%    1503.250000\n",
      "max    2000.000000\n",
      "************************************************************************\n",
      "************************************************************************\n",
      "Missing Data:\n",
      "id                 0\n",
      "synopsis          62\n",
      "rating             3\n",
      "genre              8\n",
      "director         199\n",
      "writer           449\n",
      "theater_date     359\n",
      "dvd_date         359\n",
      "currency        1220\n",
      "box_office      1220\n",
      "runtime           30\n",
      "studio          1066\n",
      "dtype: int64\n",
      "************************************************************************\n",
      "************************************************************************\n",
      "Duplicate Rows:\n",
      "Empty DataFrame\n",
      "Columns: [id, synopsis, rating, genre, director, writer, theater_date, dvd_date, currency, box_office, runtime, studio]\n",
      "Index: []\n",
      "************************************************************************\n",
      "************************************************************************\n"
     ]
    }
   ],
   "source": [
    "# Shape\n",
    "print(\"Rotten Tomatoes - Movie Info's Shape is :\", rt_movie_info.shape)\n",
    "\n",
    "print('************************************************************************')\n",
    "print('************************************************************************')\n",
    "\n",
    "# Descriptive statistics\n",
    "print(\"Descriptive Statistics:\")\n",
    "print(rt_movie_info.describe())\n",
    "\n",
    "print('************************************************************************')\n",
    "print('************************************************************************')\n",
    "\n",
    "# Missing data\n",
    "print(\"Missing Data:\")\n",
    "print(rt_movie_info.isnull().sum())\n",
    "\n",
    "print('************************************************************************')\n",
    "print('************************************************************************')\n",
    "\n",
    "# Duplicates\n",
    "print(\"Duplicate Rows:\")\n",
    "print(rt_movie_info[rt_movie_info.duplicated()])\n",
    "\n",
    "print('************************************************************************')\n",
    "print('************************************************************************')\n"
   ]
  },
  {
   "cell_type": "code",
   "execution_count": null,
   "metadata": {},
   "outputs": [],
   "source": []
  },
  {
   "cell_type": "code",
   "execution_count": null,
   "metadata": {},
   "outputs": [],
   "source": []
  },
  {
   "cell_type": "code",
   "execution_count": null,
   "metadata": {},
   "outputs": [],
   "source": []
  },
  {
   "cell_type": "code",
   "execution_count": null,
   "metadata": {},
   "outputs": [],
   "source": []
  },
  {
   "cell_type": "code",
   "execution_count": null,
   "metadata": {},
   "outputs": [],
   "source": []
  },
  {
   "cell_type": "code",
   "execution_count": null,
   "metadata": {},
   "outputs": [],
   "source": []
  }
 ],
 "metadata": {
  "kernelspec": {
   "display_name": "Python 3 (ipykernel)",
   "language": "python",
   "name": "python3"
  },
  "language_info": {
   "codemirror_mode": {
    "name": "ipython",
    "version": 3
   },
   "file_extension": ".py",
   "mimetype": "text/x-python",
   "name": "python",
   "nbconvert_exporter": "python",
   "pygments_lexer": "ipython3",
   "version": "3.11.7"
  }
 },
 "nbformat": 4,
 "nbformat_minor": 4
}

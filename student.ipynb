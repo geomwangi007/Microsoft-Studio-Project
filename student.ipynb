{
 "cells": [
  {
   "cell_type": "markdown",
   "metadata": {},
   "source": [
    "## Final Project Submission\r\n",
    "\r\n",
    "Please fill out:\r\n",
    "* Student name: GEOFFREY MWANGI WACHIRA\r\n",
    "* Student pace: full time\r\n",
    "* Scheduled project review date/time: 03/05/2024\r\n",
    "* Instructor name:Samuel G. Mwangi\r\n",
    "* Blog post URL: N/A\n"
   ]
  },
  {
   "cell_type": "markdown",
   "metadata": {},
   "source": [
    "# Business Understanding\r\n",
    "\r\n",
    "## Objective\r\n",
    "The purpose of this analysis is to help Microsoft understand which types of films are performing well at the box office, providing actionable insights for their new movie studio.\r\n",
    "\r\n",
    "## Business Problem\r\n",
    "Microsoft is looking to enter the movie industry but lacks knowledge about movie production and performance metrics. This analysis aims to uncover key trends in the movie industry to guide Microsoft's decisions on what types of films to produce.\r\n",
    "\r\n",
    "## Goal\r\n",
    "Our goal is to analyze movie data to provide three concrete business recommendations to help Microsoft make informed decisions about their new movie studio.\r\n"
   ]
  },
  {
   "cell_type": "markdown",
   "metadata": {},
   "source": [
    "## Data\r\n",
    "Here, we'll describe the datasets we'll be working with and their relevance to the business problem.\r\n",
    "\r\n",
    "Data Source\n",
    "s1. :\r\n",
    "Box Office Mojo: Provides information on movie box office performanc2. e.\r\n",
    "IMDB: Contains comprehensive data on movies, including ratings and cast information.\r\n",
    "Rotten Tomatoes: Offers movie reviews and ratings from critics and audiences.\r\n",
    "TheMovieDB: A database for movies and TV shows, providing detailed information on titles and crew.\r\n",
    "The Numbers: Provides data on movie budgets, revenues, and production costs.Numbers]\r\n"
   ]
  },
  {
   "cell_type": "markdown",
   "metadata": {},
   "source": [
    "## Project Outline\r\n",
    "We will conduct EDA on the movie and movie rating databases to identify trends and patterns in box office success. We will analyze factors such as genre, time period, ratings, budget, director, actor, and production country to identify what makes a successfuland profitable  movie. We will also identify any seasonal trends in movie releases and revenue.rThis wil help us answer wer the following questions:\r\n",
    "\r\n",
    "* What are the most successful genres at the box office?\r\n",
    "* How do ratings and revenue vary across different genres and time periods?\r\n",
    "* Are there any seasonal trends in movie releases and revenue?\r\n",
    "* Who are the most successful directors and actors in terms of revenue and ratings?\r\n",
    "* What is the average budget for successful movies, and how does it vary across different genres?\r\n",
    "* Are there any relationships between critical acclaim (e.g. movie ratings from critics) and box office revenue?\r\n",
    "* What are the most popular countries for movie production and distribution, and how do their box office revenues compare?\r\n",
    "* Are there any patterns in the runtime of successful movies, and how do they vary across different genres?"
   ]
  },
  {
   "cell_type": "markdown",
   "metadata": {},
   "source": [
    "**Importing necessary libraries**"
   ]
  },
  {
   "cell_type": "code",
   "execution_count": 2,
   "metadata": {},
   "outputs": [],
   "source": [
    "import pandas as pd\n",
    "import os \n",
    "import numpy as np\n",
    "import matplotlib.pyplot as plt\n",
    "import seaborn as sns\n",
    "%matplotlib inline\n",
    "#Importing sqlite3 library\n",
    "import sqlite3"
   ]
  },
  {
   "cell_type": "markdown",
   "metadata": {},
   "source": [
    "# Data Preparation\r\n",
    "In this section, we'll load and preprocess the datasets, ensuring they are ready for analysis"
   ]
  },
  {
   "cell_type": "code",
   "execution_count": 4,
   "metadata": {},
   "outputs": [],
   "source": [
    "# Reading the data - Box Office Mojo - Movie Gross\n",
    "bom_movie_gross = pd.read_csv('C:/Users/Hp/Desktop/Phase_One_Project/dsc-phase-1-project-v2-4/zippedData/bom.movie_gross.csv.gz')\n",
    "\n",
    "# Connecting to the database\n",
    "conn = sqlite3.connect('C:/Users/Hp/Desktop/Phase_One_Project/dsc-phase-1-project-v2-4/zippedData/im.db/im.db')\n",
    "cur = conn.cursor()\n",
    "\n",
    "# Loading the movie_info table\n",
    "rt_movie_info = pd.read_csv('C:/Users/Hp/Desktop/Phase_One_Project/dsc-phase-1-project-v2-4/zippedData/rt.movie_info.tsv.gz', delimiter='\\t')\n",
    "\n",
    "# Loading rt.reviews table\n",
    "rt_reviews = pd.read_csv('C:/Users/Hp/Desktop/Phase_One_Project/dsc-phase-1-project-v2-4/zippedData/rt.reviews.tsv.gz', delimiter='\\t', encoding='latin-1')\n",
    "\n",
    "# Loading tmdb data tables\n",
    "tmdb_movies = pd.read_csv('C:/Users/Hp/Desktop/Phase_One_Project/dsc-phase-1-project-v2-4/zippedData/tmdb.movies.csv.gz')\n",
    "\n",
    "# Loading tn.movie_budgets data table\n",
    "tn_movie_budgets = pd.read_csv('C:/Users/Hp/Desktop/Phase_One_Project/dsc-phase-1-project-v2-4/zippedData/tn.movie_budgets.csv.gz')\n"
   ]
  },
  {
   "cell_type": "code",
   "execution_count": null,
   "metadata": {},
   "outputs": [],
   "source": []
  },
  {
   "cell_type": "code",
   "execution_count": null,
   "metadata": {},
   "outputs": [],
   "source": []
  },
  {
   "cell_type": "code",
   "execution_count": null,
   "metadata": {},
   "outputs": [],
   "source": []
  },
  {
   "cell_type": "code",
   "execution_count": null,
   "metadata": {},
   "outputs": [],
   "source": []
  },
  {
   "cell_type": "code",
   "execution_count": null,
   "metadata": {},
   "outputs": [],
   "source": []
  },
  {
   "cell_type": "code",
   "execution_count": null,
   "metadata": {},
   "outputs": [],
   "source": []
  },
  {
   "cell_type": "code",
   "execution_count": null,
   "metadata": {},
   "outputs": [],
   "source": []
  },
  {
   "cell_type": "code",
   "execution_count": null,
   "metadata": {},
   "outputs": [],
   "source": []
  },
  {
   "cell_type": "code",
   "execution_count": null,
   "metadata": {},
   "outputs": [],
   "source": []
  }
 ],
 "metadata": {
  "kernelspec": {
   "display_name": "Python 3 (ipykernel)",
   "language": "python",
   "name": "python3"
  },
  "language_info": {
   "codemirror_mode": {
    "name": "ipython",
    "version": 3
   },
   "file_extension": ".py",
   "mimetype": "text/x-python",
   "name": "python",
   "nbconvert_exporter": "python",
   "pygments_lexer": "ipython3",
   "version": "3.11.7"
  }
 },
 "nbformat": 4,
 "nbformat_minor": 4
}
